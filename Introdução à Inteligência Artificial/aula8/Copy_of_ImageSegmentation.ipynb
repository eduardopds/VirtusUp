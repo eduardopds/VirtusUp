{
  "nbformat": 4,
  "nbformat_minor": 0,
  "metadata": {
    "colab": {
      "name": "Copy of ImageSegmentation.ipynb",
      "provenance": [],
      "collapsed_sections": []
    },
    "kernelspec": {
      "name": "python3",
      "display_name": "Python 3"
    }
  },
  "cells": [
    {
      "cell_type": "code",
      "metadata": {
        "id": "eE6Ba0dGHjjy"
      },
      "source": [
        "import matplotlib.pyplot as plt\n",
        "from skimage.color import rgb2hsv\n",
        "from skimage import io\n",
        "from scipy.ndimage.filters import gaussian_filter\n",
        "import numpy as np\n",
        "from sklearn.cluster import KMeans\n",
        "from collections import Counter\n",
        "import imutils\n",
        "import cv2\n",
        "from matplotlib import pyplot as plt"
      ],
      "execution_count": null,
      "outputs": []
    },
    {
      "cell_type": "markdown",
      "metadata": {
        "id": "DXHpxYt3rV84"
      },
      "source": [
        "# Exercício sobre segmentação de imagens\n",
        "\n",
        "Agora é a sua vez.\n",
        "\n",
        "Utilizando o notebook anterior como ponto de partida, implemente uma função que receba a URL de uma foto de pessoa (de pé, de corpo inteiro e bem centralizada) e retorne a classificação dessa foto em 2 categorias: usando muita ou pouca roupa.\n",
        "\n",
        "Sugestão: Comece pesquisando e montando uma base de dados com 10 exemplos de cada categoria. Salve as imagens no seu google drive para facilitar os testes. Para conseguir acessar, a partir do seu notebook, as imagens salvas no seu drive utilizando uma URL, siga [este tutorial](https://elfsight.com/blog/2018/02/how-to-upload-images-for-direct-url-in-google-drive/).\n",
        "\n",
        "Exemplo de imagem:\n",
        "\n",
        "![alt text](http://drive.google.com/uc?export=view&id=1hRdS38Yn9hvPmLI4awEnyVf7nobOP9n7)\n",
        "\n",
        "Em seguida, implemente uma função auxiliar que calcula o percentual de pixels de pele em relação ao total de pixels da imagem. Use esse valor para decidir, por limiarização, a qual categoria uma imagem deve pertencer. \n",
        "\n",
        "Depois, utilize as 5 primeiras imagens de cada classe para efetuar testes e descobrir o melhor limiar de separação entre as classes.\n",
        "\n",
        "Finalmente, implemente uma função auxliar para avaliar o desempenho de seu classificador nas 5 imagens restantes de cada categoria, computando o percentual de acerto. \n",
        "\n",
        "O que entregar: um notebook completo, contendo o código, comentários e o teste realizado sobre as imagens da base de dados armazenadas em seu google drive (com compartilhamento de link).\n",
        "\n",
        "\n"
      ]
    },
    {
      "cell_type": "code",
      "metadata": {
        "id": "wrEoekfMhSuz"
      },
      "source": [
        "# Retorna as informações de cada cor, como ocorrência e porcentagem\n",
        "def getColorInformation(labels, clusters):\n",
        "  \n",
        "  # Contador de ocorrências de cada cor estimada (predita) pelo kmeans\n",
        "  occurence_counter = Counter(labels)\n",
        "  \n",
        "  # Array de dicionários de cores\n",
        "  colorInformation = []\n",
        " \n",
        "  # Obtém a soma total de todas as ocorrências preditas\n",
        "  totalOccurance = sum(occurence_counter.values()) \n",
        "  \n",
        "  # Percorre todas as cores dominantes (mais frequentes) preditas\n",
        "  for x in occurence_counter.most_common(len(clusters)):\n",
        "    \n",
        "    index = (int(x[0]))\n",
        "    \n",
        "    # Converte o número da cor em uma lista de 3 componentes (RGB)\n",
        "    color = clusters[index].tolist()\n",
        "    \n",
        "    # Obtém a porcentagem da cada cor\n",
        "    color_percentage= (x[1]/totalOccurance)\n",
        "    \n",
        "    # Constrói o dicionário que mapeia índices de cores em cores e porcentagens\n",
        "    colorInfo = {\"cluster_index\":index , \"color\": color , \"color_percentage\" : color_percentage }\n",
        "    \n",
        "    # Acrescenta o dicionário à lista de dicionários de cores\n",
        "    colorInformation.append(colorInfo)\n",
        "    \n",
        "  return colorInformation "
      ],
      "execution_count": null,
      "outputs": []
    },
    {
      "cell_type": "code",
      "metadata": {
        "id": "G4cbgDCahceU"
      },
      "source": [
        "# Extrai as cores dominande de uma imagem\n",
        "def extractDominantColor(image,number_of_colors=2):\n",
        "    \n",
        "  # Cria uma cópia da imagem\n",
        "  img = image.copy()\n",
        "  \n",
        "  # Reorganiza a imagem para que que seja um longo array unidimensional de RGBs\n",
        "  img = img.reshape((img.shape[0]*img.shape[1]) , 3)\n",
        "  \n",
        "  #Inicializa o objeto KMeans, informando o número de clusters desejado\n",
        "  clustering = KMeans(n_clusters=number_of_colors, random_state=0)\n",
        "  \n",
        "  # Realiza o agrupamento\n",
        "  clustering.fit(img)\n",
        "  \n",
        "  # Obtém a informação das cores dominantes a partir dos rótulos e centróides dos clusters encontrados\n",
        "  colorInformation = getColorInformation(clustering.labels_, clustering.cluster_centers_)\n",
        "  \n",
        "  return colorInformation"
      ],
      "execution_count": null,
      "outputs": []
    },
    {
      "cell_type": "code",
      "metadata": {
        "id": "zxwR-3owdALs"
      },
      "source": [
        "# Retorna a imagem após a aplicação dos filtros\n",
        "def getImageSkin(url):\n",
        "\n",
        "  rgb_img = io.imread(url)\n",
        "  width, height = rgb_img.shape[:2]\n",
        "  hsv_img = rgb2hsv(rgb_img)\n",
        "  hue_img = hsv_img[:, :, 0]\n",
        "  sat_img = hsv_img[:, :, 1]\n",
        "  value_img = hsv_img[:, :, 2]\n",
        "  \n",
        "  bin_img = (hue_img > 0/255) & (hue_img < 20/255) & (sat_img > 48/255) & \\\n",
        "   (sat_img < 255/255) & (value_img > 80/255) & (value_img < 255/255)\n",
        "  \n",
        "  skin_img = np.zeros((width,height,3), dtype=\"uint8\")\n",
        "  skin_img[:,:,0] = bin_img * 255 # for red\n",
        "  skin_img[:,:,1] = bin_img * 255 # for green\n",
        "  skin_img[:,:,2] = bin_img * 255 # for blue\n",
        "  \n",
        "  skin_img = gaussian_filter(skin_img,sigma=5)\n",
        "\n",
        "  return skin_img\n",
        "\n",
        "\n",
        "# Retorna a porcentagem de pele em uma imagem\n",
        "def porcentagemSkin(url):\n",
        "  # Resize image to a width of 250\n",
        "  image = imutils.resize(getImageSkin(url),width=250)\n",
        "  #image = cv2.cvtColor(image,cv2.COLOR_BGR2RGB)\n",
        "\n",
        "  # Find the dominant color. Default is 1 , pass the parameter 'number_of_colors=N' where N is the specified number of colors \n",
        "  dominantColors = extractDominantColor(image, number_of_colors=2)\n",
        "\n",
        "  return (dominantColors[1]['color_percentage'])\n"
      ],
      "execution_count": null,
      "outputs": []
    },
    {
      "cell_type": "code",
      "metadata": {
        "id": "9_64bceMFClq"
      },
      "source": [
        "# Definindo as listas de urls de testes para ajustes e para acurácia\n",
        "links_test = [\n",
        "             \n",
        "\"https://docs.google.com/uc?id=1LZwWYF0RCaIlT4W_5gcLXC1WL1Mbt-06\",\n",
        "\"https://docs.google.com/uc?id=1uGXQBWHEailpisW4KZhnVWlympPsorfL\",\n",
        "\"https://docs.google.com/uc?id=1_p3rTPubcc9F1H_Y16eXmzcgVXJPQV7u\",\n",
        "\"https://docs.google.com/uc?id=1Zv-qGjZIl7bX569W93CuUTizoczfpX55\",\n",
        "\"https://docs.google.com/uc?id=1MPJH39UftHaeJRomn6LBcaHMQjKv9uLV\",\n",
        "\"https://docs.google.com/uc?id=1hIlM9j-3qpx4iUnL9ixEMD7pSJn3bZNd\",\n",
        "\"https://docs.google.com/uc?id=1CMkQOD5ZBbUGOTBt6kwKCvFgFYRXIDs4\",\n",
        "\"https://docs.google.com/uc?id=1JI-aYB_IXOEsqZYh1aTvtB8i1q6OkwOB\",\n",
        "'https://docs.google.com/uc?id=1NuhDJC13tE9MTYKfwkDxuoFxKM7rkaM3',\n",
        "'https://docs.google.com/uc?id=1S3mLOboWohZ4Z0o139S4ENTwtwvDcRUS'\n",
        "\n",
        "]\n",
        "links_avaliar = [\n",
        "(\"https://docs.google.com/uc?id=1gS--EJj6E5oo3f81foDQrUXCm33SVyHg\",\"Muita Roupa\"),\n",
        "(\"https://docs.google.com/uc?id=1PDlul1R9R4TkhTO1v4wh4OKKSyS1mk79\",\"Muita Roupa\"),\n",
        "(\"https://docs.google.com/uc?id=1_KAhf2bE_kRnmpTHASBAqqlkCvGUB8nv\",\"Muita Roupa\"),\n",
        "(\"https://docs.google.com/uc?id=1ycpq0IgEaytVZD7pYGvNm4Xqkv7Kkwif\",\"Muita Roupa\"),\n",
        "(\"https://docs.google.com/uc?id=1Yz6ujXf2QsQDJTqjtcGVS0BGVkr02zTa\",\"Muita Roupa\"),\n",
        "(\"https://docs.google.com/uc?id=1Fm7ozz53YYS0V340W1jiBe-ezG74NCQh\",\"Pouca Roupa\"),\n",
        "(\"https://docs.google.com/uc?id=1FBmogHjzWsiMXv2Wk-AuCqM-DNnXTwnT\",\"Pouca Roupa\"),\n",
        "(\"https://docs.google.com/uc?id=1NeRoO7eYXtqJ8W3jb6V1oNYKitaNfQe9\",\"Pouca Roupa\"),\n",
        "(\"https://docs.google.com/uc?id=1QAQImZ56TFYRu0Tk4LoF2HvRGmGvQkzm\",\"Pouca Roupa\"),\n",
        "(\"https://docs.google.com/uc?id=18cHvYJcOgrW0BVVBwqTnEeMVbBDmjxIL\",\"Pouca Roupa\")\n",
        "\n",
        "]"
      ],
      "execution_count": null,
      "outputs": []
    },
    {
      "cell_type": "code",
      "metadata": {
        "id": "sUNSAu2NJ9DY"
      },
      "source": [
        "# Função principal que recebe uma url de uma imagem e a classifica como Pouca Roupa ou Muita Roupa\n",
        "def classificador(url):\n",
        "\n",
        "  porcentagem_skin = porcentagemSkin(url)\n",
        "  if(porcentagem_skin > 0.13):\n",
        "    return \"Pouca Roupa\" \n",
        "  else:\n",
        "    return \"Muita Roupa\"\n",
        "\n"
      ],
      "execution_count": null,
      "outputs": []
    },
    {
      "cell_type": "code",
      "metadata": {
        "id": "o0nCjr4nKkCS",
        "colab": {
          "base_uri": "https://localhost:8080/",
          "height": 184
        },
        "outputId": "dc65ec77-4bc3-4f16-e380-799df6e5cc3c"
      },
      "source": [
        "# Testes para encontrar o melhor limiar\n",
        "for link in links_test:\n",
        "  print(classificador(link))"
      ],
      "execution_count": null,
      "outputs": [
        {
          "output_type": "stream",
          "text": [
            "Muita Roupa\n",
            "Muita Roupa\n",
            "Muita Roupa\n",
            "Muita Roupa\n",
            "Muita Roupa\n",
            "Pouca Roupa\n",
            "Pouca Roupa\n",
            "Pouca Roupa\n",
            "Pouca Roupa\n",
            "Pouca Roupa\n"
          ],
          "name": "stdout"
        }
      ]
    },
    {
      "cell_type": "code",
      "metadata": {
        "id": "2M5rrguXTF5L"
      },
      "source": [
        "def accuracy(lista):\n",
        "  sum = 0.0\n",
        "  for link in lista:\n",
        "    if(classificador(link[0])== link[1]):\n",
        "      sum = sum + 1\n",
        "  return sum/len(lista)"
      ],
      "execution_count": null,
      "outputs": []
    },
    {
      "cell_type": "code",
      "metadata": {
        "id": "y52eV28oTLWb",
        "colab": {
          "base_uri": "https://localhost:8080/",
          "height": 33
        },
        "outputId": "c5d9f872-82ad-4b31-dca7-3f09f5277351"
      },
      "source": [
        "print(accuracy(links_avaliar))"
      ],
      "execution_count": null,
      "outputs": [
        {
          "output_type": "stream",
          "text": [
            "0.9\n"
          ],
          "name": "stdout"
        }
      ]
    }
  ]
}