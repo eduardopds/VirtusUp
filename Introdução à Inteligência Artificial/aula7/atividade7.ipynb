{
  "nbformat": 4,
  "nbformat_minor": 0,
  "metadata": {
    "colab": {
      "name": "atividade7.ipynb",
      "provenance": [],
      "collapsed_sections": []
    },
    "kernelspec": {
      "name": "python3",
      "display_name": "Python 3"
    }
  },
  "cells": [
    {
      "cell_type": "markdown",
      "metadata": {
        "id": "52zEVmbScv9L"
      },
      "source": [
        "# Autocodificadores \n",
        "\n",
        "---\n",
        "\n",
        "\n",
        "Neste notebook criaremos um autoencoder profundo, passo-a-passo, usando o conjunto de dados de dígitos manuscritos MNIST."
      ]
    },
    {
      "cell_type": "markdown",
      "metadata": {
        "id": "DP8nmeO7dbSW"
      },
      "source": [
        "Criaremos um auto-codificador profundo em que a imagem de entrada tem uma dimensão de 784 (28x28). \n",
        "\n",
        "Em seguida, codificamos para uma dimensão de 128 e depois para 64 e depois para 32. \n",
        "\n",
        "Começaremos a decodificar a imagem de 32 dimensões para 64 e depois para 128 e, finalmente, reconstruir de volta à dimensão original de 784.\n",
        "\n",
        "*Importando as Bibliotecas Necessárias:*\n"
      ]
    },
    {
      "cell_type": "code",
      "metadata": {
        "id": "sTjaO6nJdyNw",
        "colab": {
          "base_uri": "https://localhost:8080/",
          "height": 35
        },
        "outputId": "359c1a7c-1a0c-4e9e-867f-c4e944ba48d7"
      },
      "source": [
        "from keras.datasets import mnist\n",
        "from keras.layers import Input, Dense\n",
        "from keras.models import Model\n",
        "import numpy as np\n",
        "import pandas as pd\n",
        "import matplotlib.pyplot as plt"
      ],
      "execution_count": null,
      "outputs": [
        {
          "output_type": "stream",
          "text": [
            "Using TensorFlow backend.\n"
          ],
          "name": "stderr"
        }
      ]
    },
    {
      "cell_type": "markdown",
      "metadata": {
        "id": "lc6mH_OTeGgl"
      },
      "source": [
        "*Carregando as imagens do conjunto de dados MNIST:*\n",
        "\n",
        "Nós não carregamos os rótulos. Queremos reconstruir as imagens como saída do autoencoder.\n",
        "\n",
        "Criando um conjunto de treinamento e conjunto de testes e normalizando os dados para treinar melhor o modelo."
      ]
    },
    {
      "cell_type": "code",
      "metadata": {
        "id": "1lA1l9MTeW9H",
        "colab": {
          "base_uri": "https://localhost:8080/",
          "height": 217
        },
        "outputId": "73a811ca-d21b-484a-934b-443a0a5c17ae"
      },
      "source": [
        "(X_train, _), (X_test, _) = mnist.load_data()\n",
        "print(\"before\")\n",
        "print(X_train.shape)\n",
        "print(X_test.shape)\n",
        "print(X_train.min(), X_train.max())\n",
        "X_train = X_train.astype('float32')/255\n",
        "X_test = X_test.astype('float32')/255\n",
        "print(X_train.shape[1:])\n",
        "X_train = X_train.reshape(len(X_train), np.prod(X_train.shape[1:]))\n",
        "X_test = X_test.reshape(len(X_test), np.prod(X_test.shape[1:]))\n",
        "print(\"after\")\n",
        "print(X_train.shape)\n",
        "print(X_test.shape)\n",
        "print(X_train.min(), X_train.max())"
      ],
      "execution_count": null,
      "outputs": [
        {
          "output_type": "stream",
          "text": [
            "Downloading data from https://s3.amazonaws.com/img-datasets/mnist.npz\n",
            "11493376/11490434 [==============================] - 1s 0us/step\n",
            "before\n",
            "(60000, 28, 28)\n",
            "(10000, 28, 28)\n",
            "0 255\n",
            "(28, 28)\n",
            "after\n",
            "(60000, 784)\n",
            "(10000, 784)\n",
            "0.0 1.0\n"
          ],
          "name": "stdout"
        }
      ]
    },
    {
      "cell_type": "markdown",
      "metadata": {
        "id": "Ch7cJIAxgHj2"
      },
      "source": [
        "Precisamos agora criar um objeto para representar entrada da rede neural nas  funções da biblioteca Keras (que implementa modelos de redes neurais). Esse tipo de objeto retornado pela função Input se chama tensor. "
      ]
    },
    {
      "cell_type": "code",
      "metadata": {
        "id": "lptOCkZIgXf9",
        "colab": {
          "base_uri": "https://localhost:8080/",
          "height": 35
        },
        "outputId": "1de54087-a79a-4b68-b834-57cc3848c1ed"
      },
      "source": [
        "input_img= Input(shape=(784,))\n",
        "input_img"
      ],
      "execution_count": null,
      "outputs": [
        {
          "output_type": "execute_result",
          "data": {
            "text/plain": [
              "<tf.Tensor 'input_1:0' shape=(None, 784) dtype=float32>"
            ]
          },
          "metadata": {
            "tags": []
          },
          "execution_count": 4
        }
      ]
    },
    {
      "cell_type": "markdown",
      "metadata": {
        "id": "ixeXIAQtggJP"
      },
      "source": [
        "Para construir o autoencoder, teremos que codificar primeiro a imagem de entrada e adicionar diferentes camadas codificadas e decodificadas para criar o autoencoder profundo, como mostrado na imagem abaixo e no código a seguir. \n",
        "![alt text](https://miro.medium.com/max/724/1*EQU7F2dZ6p7_qiA_OS6qQg.png)"
      ]
    },
    {
      "cell_type": "code",
      "metadata": {
        "id": "TywaTVgYgvP8"
      },
      "source": [
        "encoded = Dense(units=128, activation='relu')(input_img)\n",
        "encoded = Dense(units=64, activation='relu')(encoded)\n",
        "encoded = Dense(units=32, activation='relu')(encoded)\n",
        "decoded = Dense(units=64, activation='relu')(encoded)\n",
        "decoded = Dense(units=128, activation='relu')(decoded)\n",
        "decoded = Dense(units=784, activation='sigmoid')(decoded)"
      ],
      "execution_count": null,
      "outputs": []
    },
    {
      "cell_type": "markdown",
      "metadata": {
        "id": "SEngZG9tiHZz"
      },
      "source": [
        "Na camada final em que reconstruímos a imagem de entrada, usamos a função de ativação sigmóide. A camada de saída precisa prever a probabilidade de uma saída que seja 0 ou 1 e, portanto, usamos a função de ativação sigmóide.\n",
        "\n",
        "Para todas as camadas ocultas do codificador e decodificador, usamos a função de ativação relu (computacionalmente mais eficiente e previne o problema do desaparecimento dos gradientes).\n",
        "\n",
        "![alt text](https://miro.medium.com/max/726/1*XxxiA0jJvPrHEJHD4z893g.png)\n",
        "\n",
        "Criamos o autoencoder com o objeto que representa imagem de entrada como sendo a entrada da rede. A saída será a camada final do decodificador.\n",
        "\n"
      ]
    },
    {
      "cell_type": "code",
      "metadata": {
        "id": "I_-oIUoRjNln"
      },
      "source": [
        "autoencoder=Model(input_img, decoded)"
      ],
      "execution_count": null,
      "outputs": []
    },
    {
      "cell_type": "markdown",
      "metadata": {
        "id": "erB-S2cAjj6Y"
      },
      "source": [
        "Podemos extrair o codificador que obtém a imagem de entrada e produz sua codificação na dimensão 32."
      ]
    },
    {
      "cell_type": "code",
      "metadata": {
        "id": "v6qQXJiej1J9"
      },
      "source": [
        "encoder = Model(input_img, encoded)"
      ],
      "execution_count": null,
      "outputs": []
    },
    {
      "cell_type": "markdown",
      "metadata": {
        "id": "rcOb9vhRj30t"
      },
      "source": [
        "Vejamos como ficou a estrutura de nosso autocodificador:"
      ]
    },
    {
      "cell_type": "code",
      "metadata": {
        "id": "hr33jmmlj8uG",
        "colab": {
          "base_uri": "https://localhost:8080/",
          "height": 417
        },
        "outputId": "3ea48f54-50d3-4b3a-c2df-abb77aa239ff"
      },
      "source": [
        "autoencoder.summary()"
      ],
      "execution_count": null,
      "outputs": [
        {
          "output_type": "stream",
          "text": [
            "Model: \"model_1\"\n",
            "_________________________________________________________________\n",
            "Layer (type)                 Output Shape              Param #   \n",
            "=================================================================\n",
            "input_1 (InputLayer)         (None, 784)               0         \n",
            "_________________________________________________________________\n",
            "dense_1 (Dense)              (None, 128)               100480    \n",
            "_________________________________________________________________\n",
            "dense_2 (Dense)              (None, 64)                8256      \n",
            "_________________________________________________________________\n",
            "dense_3 (Dense)              (None, 32)                2080      \n",
            "_________________________________________________________________\n",
            "dense_4 (Dense)              (None, 64)                2112      \n",
            "_________________________________________________________________\n",
            "dense_5 (Dense)              (None, 128)               8320      \n",
            "_________________________________________________________________\n",
            "dense_6 (Dense)              (None, 784)               101136    \n",
            "=================================================================\n",
            "Total params: 222,384\n",
            "Trainable params: 222,384\n",
            "Non-trainable params: 0\n",
            "_________________________________________________________________\n"
          ],
          "name": "stdout"
        }
      ]
    },
    {
      "cell_type": "markdown",
      "metadata": {
        "id": "XT9CRl6ikR1U"
      },
      "source": [
        "Vejamos agora a estrutura do codificador:"
      ]
    },
    {
      "cell_type": "code",
      "metadata": {
        "id": "H1zkID1EkUem",
        "colab": {
          "base_uri": "https://localhost:8080/",
          "height": 308
        },
        "outputId": "c5effd99-fcef-4fc9-bfb4-f9444e6254db"
      },
      "source": [
        "encoder.summary()"
      ],
      "execution_count": null,
      "outputs": [
        {
          "output_type": "stream",
          "text": [
            "Model: \"model_2\"\n",
            "_________________________________________________________________\n",
            "Layer (type)                 Output Shape              Param #   \n",
            "=================================================================\n",
            "input_1 (InputLayer)         (None, 784)               0         \n",
            "_________________________________________________________________\n",
            "dense_1 (Dense)              (None, 128)               100480    \n",
            "_________________________________________________________________\n",
            "dense_2 (Dense)              (None, 64)                8256      \n",
            "_________________________________________________________________\n",
            "dense_3 (Dense)              (None, 32)                2080      \n",
            "=================================================================\n",
            "Total params: 110,816\n",
            "Trainable params: 110,816\n",
            "Non-trainable params: 0\n",
            "_________________________________________________________________\n"
          ],
          "name": "stdout"
        }
      ]
    },
    {
      "cell_type": "markdown",
      "metadata": {
        "id": "6fJ23kpqkYEv"
      },
      "source": [
        "Agora, é necessário compilar o modelo que criamos. \n",
        "Precisamos definir qual a função de perda (custo ou erro) deverá ser otimizada e qual o algoritmo de otimização. \n",
        "\n",
        "Como os pixels têm um valor entre 0 e 1, usamos binary_crossentropy como a função de perda. Ela é melhor que o erro médio quadrático nesta situação. \n",
        "\n",
        "Como função de otimização, utilizaremos Adam, um método de treinamento dos pesos que converge mais rapidamente para um erro mínimo, quando comparado a método tradicional de gradiente descendente.\n",
        "\n",
        "Usamos a acurácia como métrica para avaliar o desempenho do modelo.\n"
      ]
    },
    {
      "cell_type": "code",
      "metadata": {
        "id": "rUNY2HDplkBA"
      },
      "source": [
        "autoencoder.compile(optimizer='adam', loss='binary_crossentropy', metrics=['accuracy'])"
      ],
      "execution_count": null,
      "outputs": []
    },
    {
      "cell_type": "markdown",
      "metadata": {
        "id": "WDrzzbkwl01a"
      },
      "source": [
        "Finalmente treinamos o autoencoder usando os dados de treinamento com 50 épocas de treinamento e tamanho de lote de treinamento (batch) de 256. Isto quer dizer que os dados de treinamento são divididos em lotes, de modo a poderem ser acomodados todos na memória. O treinamento ocorre otimizando a função de perda por partes, um lote de treinamento por vez. "
      ]
    },
    {
      "cell_type": "code",
      "metadata": {
        "id": "imf4nYmRmYV_",
        "colab": {
          "base_uri": "https://localhost:8080/",
          "height": 1000
        },
        "outputId": "d9fd2971-d469-448e-ca7d-979002477d55"
      },
      "source": [
        "autoencoder.fit(X_train, X_train,\n",
        "                epochs=50,\n",
        "                batch_size=256,\n",
        "                shuffle=True,\n",
        "                validation_data=(X_test, X_test))"
      ],
      "execution_count": null,
      "outputs": [
        {
          "output_type": "stream",
          "text": [
            "Train on 60000 samples, validate on 10000 samples\n",
            "Epoch 1/50\n",
            "60000/60000 [==============================] - 4s 73us/step - loss: 0.2396 - accuracy: 0.7855 - val_loss: 0.1617 - val_accuracy: 0.8015\n",
            "Epoch 2/50\n",
            "60000/60000 [==============================] - 4s 66us/step - loss: 0.1484 - accuracy: 0.8054 - val_loss: 0.1358 - val_accuracy: 0.8074\n",
            "Epoch 3/50\n",
            "60000/60000 [==============================] - 4s 66us/step - loss: 0.1319 - accuracy: 0.8084 - val_loss: 0.1256 - val_accuracy: 0.8086\n",
            "Epoch 4/50\n",
            "60000/60000 [==============================] - 4s 66us/step - loss: 0.1240 - accuracy: 0.8098 - val_loss: 0.1192 - val_accuracy: 0.8094\n",
            "Epoch 5/50\n",
            "60000/60000 [==============================] - 4s 65us/step - loss: 0.1181 - accuracy: 0.8107 - val_loss: 0.1138 - val_accuracy: 0.8101\n",
            "Epoch 6/50\n",
            "60000/60000 [==============================] - 4s 65us/step - loss: 0.1132 - accuracy: 0.8114 - val_loss: 0.1096 - val_accuracy: 0.8108\n",
            "Epoch 7/50\n",
            "60000/60000 [==============================] - 4s 65us/step - loss: 0.1097 - accuracy: 0.8119 - val_loss: 0.1071 - val_accuracy: 0.8108\n",
            "Epoch 8/50\n",
            "60000/60000 [==============================] - 4s 67us/step - loss: 0.1072 - accuracy: 0.8122 - val_loss: 0.1051 - val_accuracy: 0.8113\n",
            "Epoch 9/50\n",
            "60000/60000 [==============================] - 4s 67us/step - loss: 0.1056 - accuracy: 0.8124 - val_loss: 0.1032 - val_accuracy: 0.8118\n",
            "Epoch 10/50\n",
            "60000/60000 [==============================] - 4s 67us/step - loss: 0.1038 - accuracy: 0.8126 - val_loss: 0.1017 - val_accuracy: 0.8118\n",
            "Epoch 11/50\n",
            "60000/60000 [==============================] - 4s 67us/step - loss: 0.1023 - accuracy: 0.8128 - val_loss: 0.1006 - val_accuracy: 0.8122\n",
            "Epoch 12/50\n",
            "60000/60000 [==============================] - 4s 67us/step - loss: 0.1011 - accuracy: 0.8129 - val_loss: 0.0994 - val_accuracy: 0.8121\n",
            "Epoch 13/50\n",
            "60000/60000 [==============================] - 4s 68us/step - loss: 0.1001 - accuracy: 0.8131 - val_loss: 0.0982 - val_accuracy: 0.8123\n",
            "Epoch 14/50\n",
            "60000/60000 [==============================] - 4s 67us/step - loss: 0.0991 - accuracy: 0.8132 - val_loss: 0.0976 - val_accuracy: 0.8122\n",
            "Epoch 15/50\n",
            "60000/60000 [==============================] - 4s 66us/step - loss: 0.0982 - accuracy: 0.8133 - val_loss: 0.0967 - val_accuracy: 0.8122\n",
            "Epoch 16/50\n",
            "60000/60000 [==============================] - 4s 69us/step - loss: 0.0975 - accuracy: 0.8133 - val_loss: 0.0963 - val_accuracy: 0.8123\n",
            "Epoch 17/50\n",
            "60000/60000 [==============================] - 4s 69us/step - loss: 0.0967 - accuracy: 0.8134 - val_loss: 0.0955 - val_accuracy: 0.8124\n",
            "Epoch 18/50\n",
            "60000/60000 [==============================] - 4s 67us/step - loss: 0.0961 - accuracy: 0.8135 - val_loss: 0.0950 - val_accuracy: 0.8124\n",
            "Epoch 19/50\n",
            "60000/60000 [==============================] - 4s 66us/step - loss: 0.0953 - accuracy: 0.8136 - val_loss: 0.0943 - val_accuracy: 0.8126\n",
            "Epoch 20/50\n",
            "60000/60000 [==============================] - 4s 67us/step - loss: 0.0947 - accuracy: 0.8136 - val_loss: 0.0938 - val_accuracy: 0.8126\n",
            "Epoch 21/50\n",
            "60000/60000 [==============================] - 4s 66us/step - loss: 0.0941 - accuracy: 0.8137 - val_loss: 0.0933 - val_accuracy: 0.8128\n",
            "Epoch 22/50\n",
            "60000/60000 [==============================] - 4s 66us/step - loss: 0.0937 - accuracy: 0.8137 - val_loss: 0.0928 - val_accuracy: 0.8127\n",
            "Epoch 23/50\n",
            "60000/60000 [==============================] - 4s 67us/step - loss: 0.0933 - accuracy: 0.8138 - val_loss: 0.0927 - val_accuracy: 0.8130\n",
            "Epoch 24/50\n",
            "60000/60000 [==============================] - 4s 67us/step - loss: 0.0928 - accuracy: 0.8138 - val_loss: 0.0921 - val_accuracy: 0.8129\n",
            "Epoch 25/50\n",
            "60000/60000 [==============================] - 4s 66us/step - loss: 0.0925 - accuracy: 0.8138 - val_loss: 0.0916 - val_accuracy: 0.8129\n",
            "Epoch 26/50\n",
            "60000/60000 [==============================] - 4s 67us/step - loss: 0.0921 - accuracy: 0.8139 - val_loss: 0.0917 - val_accuracy: 0.8130\n",
            "Epoch 27/50\n",
            "60000/60000 [==============================] - 4s 66us/step - loss: 0.0919 - accuracy: 0.8139 - val_loss: 0.0911 - val_accuracy: 0.8129\n",
            "Epoch 28/50\n",
            "60000/60000 [==============================] - 4s 67us/step - loss: 0.0916 - accuracy: 0.8139 - val_loss: 0.0908 - val_accuracy: 0.8130\n",
            "Epoch 29/50\n",
            "60000/60000 [==============================] - 4s 66us/step - loss: 0.0913 - accuracy: 0.8139 - val_loss: 0.0906 - val_accuracy: 0.8130\n",
            "Epoch 30/50\n",
            "60000/60000 [==============================] - 4s 66us/step - loss: 0.0911 - accuracy: 0.8140 - val_loss: 0.0904 - val_accuracy: 0.8130\n",
            "Epoch 31/50\n",
            "60000/60000 [==============================] - 4s 67us/step - loss: 0.0909 - accuracy: 0.8140 - val_loss: 0.0903 - val_accuracy: 0.8130\n",
            "Epoch 32/50\n",
            "60000/60000 [==============================] - 4s 66us/step - loss: 0.0907 - accuracy: 0.8140 - val_loss: 0.0902 - val_accuracy: 0.8130\n",
            "Epoch 33/50\n",
            "60000/60000 [==============================] - 4s 67us/step - loss: 0.0905 - accuracy: 0.8140 - val_loss: 0.0899 - val_accuracy: 0.8130\n",
            "Epoch 34/50\n",
            "60000/60000 [==============================] - 4s 65us/step - loss: 0.0902 - accuracy: 0.8140 - val_loss: 0.0895 - val_accuracy: 0.8131\n",
            "Epoch 35/50\n",
            "60000/60000 [==============================] - 4s 65us/step - loss: 0.0901 - accuracy: 0.8141 - val_loss: 0.0895 - val_accuracy: 0.8130\n",
            "Epoch 36/50\n",
            "60000/60000 [==============================] - 4s 67us/step - loss: 0.0899 - accuracy: 0.8141 - val_loss: 0.0894 - val_accuracy: 0.8132\n",
            "Epoch 37/50\n",
            "60000/60000 [==============================] - 4s 66us/step - loss: 0.0898 - accuracy: 0.8141 - val_loss: 0.0893 - val_accuracy: 0.8131\n",
            "Epoch 38/50\n",
            "60000/60000 [==============================] - 4s 65us/step - loss: 0.0896 - accuracy: 0.8141 - val_loss: 0.0890 - val_accuracy: 0.8131\n",
            "Epoch 39/50\n",
            "60000/60000 [==============================] - 4s 66us/step - loss: 0.0895 - accuracy: 0.8141 - val_loss: 0.0890 - val_accuracy: 0.8131\n",
            "Epoch 40/50\n",
            "60000/60000 [==============================] - 4s 65us/step - loss: 0.0893 - accuracy: 0.8141 - val_loss: 0.0890 - val_accuracy: 0.8130\n",
            "Epoch 41/50\n",
            "60000/60000 [==============================] - 4s 65us/step - loss: 0.0892 - accuracy: 0.8141 - val_loss: 0.0893 - val_accuracy: 0.8133\n",
            "Epoch 42/50\n",
            "60000/60000 [==============================] - 4s 65us/step - loss: 0.0890 - accuracy: 0.8142 - val_loss: 0.0886 - val_accuracy: 0.8132\n",
            "Epoch 43/50\n",
            "60000/60000 [==============================] - 4s 66us/step - loss: 0.0889 - accuracy: 0.8142 - val_loss: 0.0884 - val_accuracy: 0.8132\n",
            "Epoch 44/50\n",
            "60000/60000 [==============================] - 4s 66us/step - loss: 0.0887 - accuracy: 0.8142 - val_loss: 0.0885 - val_accuracy: 0.8132\n",
            "Epoch 45/50\n",
            "60000/60000 [==============================] - 4s 66us/step - loss: 0.0886 - accuracy: 0.8142 - val_loss: 0.0882 - val_accuracy: 0.8131\n",
            "Epoch 46/50\n",
            "60000/60000 [==============================] - 4s 66us/step - loss: 0.0884 - accuracy: 0.8142 - val_loss: 0.0881 - val_accuracy: 0.8133\n",
            "Epoch 47/50\n",
            "60000/60000 [==============================] - 4s 66us/step - loss: 0.0882 - accuracy: 0.8142 - val_loss: 0.0878 - val_accuracy: 0.8133\n",
            "Epoch 48/50\n",
            "60000/60000 [==============================] - 4s 64us/step - loss: 0.0881 - accuracy: 0.8142 - val_loss: 0.0877 - val_accuracy: 0.8134\n",
            "Epoch 49/50\n",
            "60000/60000 [==============================] - 4s 65us/step - loss: 0.0879 - accuracy: 0.8143 - val_loss: 0.0877 - val_accuracy: 0.8132\n",
            "Epoch 50/50\n",
            "60000/60000 [==============================] - 4s 65us/step - loss: 0.0877 - accuracy: 0.8143 - val_loss: 0.0873 - val_accuracy: 0.8134\n"
          ],
          "name": "stdout"
        },
        {
          "output_type": "execute_result",
          "data": {
            "text/plain": [
              "<keras.callbacks.callbacks.History at 0x7f9f9dcf5128>"
            ]
          },
          "metadata": {
            "tags": []
          },
          "execution_count": 11
        }
      ]
    },
    {
      "cell_type": "markdown",
      "metadata": {
        "id": "eYcnWa8-mgO6"
      },
      "source": [
        "A seguir, vamos propagar o conjunto de testes pelo autoencoder completo para obter a imagem reconstruída.\n",
        "Também vamos propagar o conjunto de testes usando apenas a parte da rede responsável pela codificação,  para visualizarmos as imagens codificadas na dimensão 32."
      ]
    },
    {
      "cell_type": "code",
      "metadata": {
        "id": "bezJbJZmnKt5"
      },
      "source": [
        "predicted = autoencoder.predict(X_test)\n",
        "encoded_imgs = encoder.predict(X_test)"
      ],
      "execution_count": null,
      "outputs": []
    },
    {
      "cell_type": "markdown",
      "metadata": {
        "id": "5wCyeY7nnN8Y"
      },
      "source": [
        "Para visualizar a entrada original, imagens codificadas e imagens reconstruídas,vamos usar funções da biblioteca matplotlib.\n"
      ]
    },
    {
      "cell_type": "code",
      "metadata": {
        "id": "RK_b6OIxnX-1",
        "colab": {
          "base_uri": "https://localhost:8080/",
          "height": 252
        },
        "outputId": "05788093-40b6-460e-d6b3-1c38a3c9ebdb"
      },
      "source": [
        "plt.figure(figsize=(40, 4))\n",
        "for i in range(10):\n",
        "    # display original images\n",
        "    ax = plt.subplot(3, 20, i + 1)\n",
        "    plt.imshow(X_test[i].reshape(28, 28))\n",
        "    plt.gray()\n",
        "    ax.get_xaxis().set_visible(False)\n",
        "    ax.get_yaxis().set_visible(False)\n",
        "    \n",
        "    # display encoded images\n",
        "    ax = plt.subplot(3, 20, i + 1 + 20)\n",
        "    plt.imshow(encoded_imgs[i].reshape(8,4))\n",
        "    plt.gray()\n",
        "    ax.get_xaxis().set_visible(False)\n",
        "    ax.get_yaxis().set_visible(False)# display reconstructed images\n",
        "    ax = plt.subplot(3, 20, 2*20 +i+ 1)\n",
        "    plt.imshow(predicted[i].reshape(28, 28))\n",
        "    plt.gray()\n",
        "    ax.get_xaxis().set_visible(False)\n",
        "    ax.get_yaxis().set_visible(False)\n",
        "  \n",
        "    \n",
        "plt.show()\n"
      ],
      "execution_count": null,
      "outputs": [
        {
          "output_type": "display_data",
          "data": {
            "image/png": "[encoded data removed]",
            "text/plain": [
              "<Figure size 2880x288 with 30 Axes>"
            ]
          },
          "metadata": {
            "tags": [],
            "needs_background": "light"
          }
        }
      ]
    },
    {
      "cell_type": "markdown",
      "metadata": {
        "id": "rICS_PQavSPY"
      },
      "source": [
        "**Agora é a sua vez**\n",
        "\n",
        "1) Verifique se o código no espaço interno de dimensão 32 é estável para dígitos de uma mesma classe e se ele muda para dígitos de classes diferentes (escreva um código para isso).\n",
        "\n",
        "2) Utilizando os códigos anteriores, crie um autocoficador mais raso, com apenas 1 camada escondida (784-128-784) e treine este autocodificador pelo mesmo número de épocas de treinamento anterior (50). Agora, compare os valores da perda e da acurácia de validação (val_loss e val_acc), obtidos ao final do treinamento, com os respectivos valores resultantes do treinamento do modelo autocodificador original mais profundo. Alguma mudança perceptível nos valores? As imagens reconstruídas possuem a mesma qualidade? Procure explicar as eventuais diferenças. "
      ]
    },
    {
      "cell_type": "code",
      "metadata": {
        "id": "gR-SkhEqhAuB",
        "colab": {
          "base_uri": "https://localhost:8080/",
          "height": 1000
        },
        "outputId": "56d2cb85-5fc6-4fde-d006-76aab53acbf2"
      },
      "source": [
        "encoded2 = Dense(units=128, activation='relu')(input_img)\n",
        "decoded2 = Dense(units=784, activation='relu')(encoded2)\n",
        "\n",
        "autoencoder2=Model(input_img, decoded2)\n",
        "autoencoder2.summary()\n",
        "\n",
        "autoencoder2.compile(optimizer='adam', loss='binary_crossentropy', metrics=['accuracy'])\n",
        "\n",
        "autoencoder2.fit(X_train, X_train,\n",
        "                epochs=50,\n",
        "                batch_size=256,\n",
        "                shuffle=True,\n",
        "                validation_data=(X_test, X_test))\n",
        "predicted2 = autoencoder2.predict(X_test)\n",
        "\n",
        "\n",
        "\n",
        "plt.figure(figsize=(40, 4))\n",
        "for i in range(10):\n",
        "    # display original images\n",
        "    ax = plt.subplot(3, 20, i + 1)\n",
        "    plt.imshow(X_test[i].reshape(28, 28))\n",
        "    plt.gray()\n",
        "    ax.get_xaxis().set_visible(False)\n",
        "    ax.get_yaxis().set_visible(False)\n",
        "    \n",
        "    ax.get_yaxis().set_visible(False)# display reconstructed images\n",
        "    ax = plt.subplot(3, 20, 2*20 +i+ 1)\n",
        "    plt.imshow(predicted2[i].reshape(28, 28))\n",
        "    plt.gray()\n",
        "    ax.get_xaxis().set_visible(False)\n",
        "    ax.get_yaxis().set_visible(False)\n",
        "  \n",
        "    \n",
        "plt.show()\n"
      ],
      "execution_count": null,
      "outputs": [
        {
          "output_type": "stream",
          "text": [
            "Model: \"model_7\"\n",
            "_________________________________________________________________\n",
            "Layer (type)                 Output Shape              Param #   \n",
            "=================================================================\n",
            "input_1 (InputLayer)         (None, 784)               0         \n",
            "_________________________________________________________________\n",
            "dense_13 (Dense)             (None, 128)               100480    \n",
            "_________________________________________________________________\n",
            "dense_14 (Dense)             (None, 784)               101136    \n",
            "=================================================================\n",
            "Total params: 201,616\n",
            "Trainable params: 201,616\n",
            "Non-trainable params: 0\n",
            "_________________________________________________________________\n",
            "Train on 60000 samples, validate on 10000 samples\n",
            "Epoch 1/50\n",
            "60000/60000 [==============================] - 4s 68us/step - loss: 0.2831 - accuracy: 0.7995 - val_loss: 0.2069 - val_accuracy: 0.8062\n",
            "Epoch 2/50\n",
            "60000/60000 [==============================] - 4s 67us/step - loss: 0.1985 - accuracy: 0.8086 - val_loss: 0.2211 - val_accuracy: 0.8038\n",
            "Epoch 3/50\n",
            "60000/60000 [==============================] - 4s 65us/step - loss: 0.1977 - accuracy: 0.8080 - val_loss: 0.1914 - val_accuracy: 0.8084\n",
            "Epoch 4/50\n",
            "60000/60000 [==============================] - 4s 66us/step - loss: 0.2002 - accuracy: 0.8082 - val_loss: 0.2277 - val_accuracy: 0.8044\n",
            "Epoch 5/50\n",
            "60000/60000 [==============================] - 4s 66us/step - loss: 0.2094 - accuracy: 0.8081 - val_loss: 0.1952 - val_accuracy: 0.8088\n",
            "Epoch 6/50\n",
            "60000/60000 [==============================] - 4s 67us/step - loss: 0.2176 - accuracy: 0.8080 - val_loss: 0.2002 - val_accuracy: 0.8087\n",
            "Epoch 7/50\n",
            "60000/60000 [==============================] - 4s 66us/step - loss: 0.1881 - accuracy: 0.8097 - val_loss: 0.1727 - val_accuracy: 0.8095\n",
            "Epoch 8/50\n",
            "60000/60000 [==============================] - 4s 66us/step - loss: 0.1714 - accuracy: 0.8104 - val_loss: 0.1605 - val_accuracy: 0.8101\n",
            "Epoch 9/50\n",
            "60000/60000 [==============================] - 4s 71us/step - loss: 0.1811 - accuracy: 0.8096 - val_loss: 0.2034 - val_accuracy: 0.8062\n",
            "Epoch 10/50\n",
            "60000/60000 [==============================] - 4s 69us/step - loss: 0.2213 - accuracy: 0.8072 - val_loss: 0.1962 - val_accuracy: 0.8072\n",
            "Epoch 11/50\n",
            "60000/60000 [==============================] - 4s 66us/step - loss: 0.2277 - accuracy: 0.8059 - val_loss: 0.2409 - val_accuracy: 0.8041\n",
            "Epoch 12/50\n",
            "60000/60000 [==============================] - 4s 66us/step - loss: 0.2394 - accuracy: 0.8059 - val_loss: 0.2124 - val_accuracy: 0.8070\n",
            "Epoch 13/50\n",
            "60000/60000 [==============================] - 4s 67us/step - loss: 0.2020 - accuracy: 0.8081 - val_loss: 0.1876 - val_accuracy: 0.8083\n",
            "Epoch 14/50\n",
            "60000/60000 [==============================] - 4s 66us/step - loss: 0.1898 - accuracy: 0.8092 - val_loss: 0.1859 - val_accuracy: 0.8079\n",
            "Epoch 15/50\n",
            "60000/60000 [==============================] - 4s 66us/step - loss: 0.1825 - accuracy: 0.8094 - val_loss: 0.1763 - val_accuracy: 0.8088\n",
            "Epoch 16/50\n",
            "60000/60000 [==============================] - 4s 66us/step - loss: 0.2097 - accuracy: 0.8074 - val_loss: 0.1910 - val_accuracy: 0.8073\n",
            "Epoch 17/50\n",
            "60000/60000 [==============================] - 4s 66us/step - loss: 0.1904 - accuracy: 0.8085 - val_loss: 0.2097 - val_accuracy: 0.8057\n",
            "Epoch 18/50\n",
            "60000/60000 [==============================] - 4s 67us/step - loss: 0.1904 - accuracy: 0.8084 - val_loss: 0.2115 - val_accuracy: 0.8053\n",
            "Epoch 19/50\n",
            "60000/60000 [==============================] - 4s 67us/step - loss: 0.1789 - accuracy: 0.8090 - val_loss: 0.1644 - val_accuracy: 0.8093\n",
            "Epoch 20/50\n",
            "60000/60000 [==============================] - 4s 67us/step - loss: 0.1840 - accuracy: 0.8093 - val_loss: 0.1747 - val_accuracy: 0.8089\n",
            "Epoch 21/50\n",
            "60000/60000 [==============================] - 4s 66us/step - loss: 0.1730 - accuracy: 0.8101 - val_loss: 0.1852 - val_accuracy: 0.8085\n",
            "Epoch 22/50\n",
            "60000/60000 [==============================] - 4s 66us/step - loss: 0.1804 - accuracy: 0.8096 - val_loss: 0.1762 - val_accuracy: 0.8088\n",
            "Epoch 23/50\n",
            "60000/60000 [==============================] - 4s 67us/step - loss: 0.1691 - accuracy: 0.8105 - val_loss: 0.1611 - val_accuracy: 0.8104\n",
            "Epoch 24/50\n",
            "60000/60000 [==============================] - 4s 66us/step - loss: 0.1853 - accuracy: 0.8090 - val_loss: 0.2434 - val_accuracy: 0.8043\n",
            "Epoch 25/50\n",
            "60000/60000 [==============================] - 4s 67us/step - loss: 0.2156 - accuracy: 0.8070 - val_loss: 0.1977 - val_accuracy: 0.8073\n",
            "Epoch 26/50\n",
            "60000/60000 [==============================] - 4s 66us/step - loss: 0.1992 - accuracy: 0.8086 - val_loss: 0.2342 - val_accuracy: 0.8056\n",
            "Epoch 27/50\n",
            "60000/60000 [==============================] - 4s 65us/step - loss: 0.1966 - accuracy: 0.8088 - val_loss: 0.1780 - val_accuracy: 0.8085\n",
            "Epoch 28/50\n",
            "60000/60000 [==============================] - 4s 66us/step - loss: 0.1994 - accuracy: 0.8080 - val_loss: 0.1799 - val_accuracy: 0.8077\n",
            "Epoch 29/50\n",
            "60000/60000 [==============================] - 4s 65us/step - loss: 0.1812 - accuracy: 0.8090 - val_loss: 0.2171 - val_accuracy: 0.8033\n",
            "Epoch 30/50\n",
            "60000/60000 [==============================] - 4s 65us/step - loss: 0.2032 - accuracy: 0.8072 - val_loss: 0.1835 - val_accuracy: 0.8081\n",
            "Epoch 31/50\n",
            "60000/60000 [==============================] - 4s 65us/step - loss: 0.1820 - accuracy: 0.8095 - val_loss: 0.1730 - val_accuracy: 0.8081\n",
            "Epoch 32/50\n",
            "60000/60000 [==============================] - 4s 65us/step - loss: 0.1726 - accuracy: 0.8101 - val_loss: 0.1672 - val_accuracy: 0.8094\n",
            "Epoch 33/50\n",
            "60000/60000 [==============================] - 4s 65us/step - loss: 0.1684 - accuracy: 0.8104 - val_loss: 0.1656 - val_accuracy: 0.8095\n",
            "Epoch 34/50\n",
            "60000/60000 [==============================] - 4s 66us/step - loss: 0.1935 - accuracy: 0.8086 - val_loss: 0.1955 - val_accuracy: 0.8074\n",
            "Epoch 35/50\n",
            "60000/60000 [==============================] - 4s 64us/step - loss: 0.1838 - accuracy: 0.8094 - val_loss: 0.1757 - val_accuracy: 0.8092\n",
            "Epoch 36/50\n",
            "60000/60000 [==============================] - 4s 66us/step - loss: 0.1764 - accuracy: 0.8099 - val_loss: 0.1718 - val_accuracy: 0.8087\n",
            "Epoch 37/50\n",
            "60000/60000 [==============================] - 4s 66us/step - loss: 0.1679 - accuracy: 0.8102 - val_loss: 0.1633 - val_accuracy: 0.8099\n",
            "Epoch 38/50\n",
            "60000/60000 [==============================] - 4s 66us/step - loss: 0.2122 - accuracy: 0.8076 - val_loss: 0.2330 - val_accuracy: 0.8044\n",
            "Epoch 39/50\n",
            "60000/60000 [==============================] - 4s 66us/step - loss: 0.2103 - accuracy: 0.8067 - val_loss: 0.2143 - val_accuracy: 0.8038\n",
            "Epoch 40/50\n",
            "60000/60000 [==============================] - 4s 66us/step - loss: 0.1965 - accuracy: 0.8078 - val_loss: 0.1905 - val_accuracy: 0.8076\n",
            "Epoch 41/50\n",
            "60000/60000 [==============================] - 4s 66us/step - loss: 0.2006 - accuracy: 0.8070 - val_loss: 0.1855 - val_accuracy: 0.8066\n",
            "Epoch 42/50\n",
            "60000/60000 [==============================] - 4s 65us/step - loss: 0.1762 - accuracy: 0.8091 - val_loss: 0.1742 - val_accuracy: 0.8084\n",
            "Epoch 43/50\n",
            "60000/60000 [==============================] - 4s 65us/step - loss: 0.1675 - accuracy: 0.8100 - val_loss: 0.1587 - val_accuracy: 0.8099\n",
            "Epoch 44/50\n",
            "60000/60000 [==============================] - 4s 65us/step - loss: 0.1781 - accuracy: 0.8099 - val_loss: 0.1749 - val_accuracy: 0.8090\n",
            "Epoch 45/50\n",
            "60000/60000 [==============================] - 4s 64us/step - loss: 0.1701 - accuracy: 0.8101 - val_loss: 0.1780 - val_accuracy: 0.8068\n",
            "Epoch 46/50\n",
            "60000/60000 [==============================] - 4s 64us/step - loss: 0.1729 - accuracy: 0.8092 - val_loss: 0.1651 - val_accuracy: 0.8093\n",
            "Epoch 47/50\n",
            "60000/60000 [==============================] - 4s 65us/step - loss: 0.1760 - accuracy: 0.8092 - val_loss: 0.1778 - val_accuracy: 0.8076\n",
            "Epoch 48/50\n",
            "60000/60000 [==============================] - 4s 65us/step - loss: 0.1709 - accuracy: 0.8098 - val_loss: 0.1569 - val_accuracy: 0.8099\n",
            "Epoch 49/50\n",
            "60000/60000 [==============================] - 4s 65us/step - loss: 0.1581 - accuracy: 0.8106 - val_loss: 0.1541 - val_accuracy: 0.8101\n",
            "Epoch 50/50\n",
            "60000/60000 [==============================] - 4s 63us/step - loss: 0.1598 - accuracy: 0.8108 - val_loss: 0.1634 - val_accuracy: 0.8097\n"
          ],
          "name": "stdout"
        },
        {
          "output_type": "display_data",
          "data": {
            "image/png": "[encoded data removed]",
            "text/plain": [
              "<Figure size 2880x288 with 20 Axes>"
            ]
          },
          "metadata": {
            "tags": [],
            "needs_background": "light"
          }
        }
      ]
    },
    {
      "cell_type": "markdown",
      "metadata": {
        "id": "OgwWSqafdt6o"
      },
      "source": [
        "2) Não houve uma grande perda de acurácia, mas os valores de perda aumentaram muito. É possível perceber que as imagens comparadas ao modelo original contém muito mais ruído e perca de forma, principalmente cor e brilho."
      ]
    },
    {
      "cell_type": "markdown",
      "metadata": {
        "id": "POTJUIOXK4_B"
      },
      "source": [
        "# Rede convolucional para classificação de dígitos manuscritos"
      ]
    },
    {
      "cell_type": "markdown",
      "metadata": {
        "id": "LfpaH7LjHVGE"
      },
      "source": [
        "Importando funções necessárias das bibliotecas"
      ]
    },
    {
      "cell_type": "code",
      "metadata": {
        "id": "0zyAZfd5r-ZQ"
      },
      "source": [
        "import keras\n",
        "from keras.datasets import mnist\n",
        "from keras.models import Sequential\n",
        "from keras.layers import Dense, Flatten\n",
        "from keras.layers import Conv2D, MaxPooling2D\n",
        "from sklearn.metrics import confusion_matrix, classification_report"
      ],
      "execution_count": null,
      "outputs": []
    },
    {
      "cell_type": "markdown",
      "metadata": {
        "id": "cFo_S3VpH8Hb"
      },
      "source": [
        "Parâmetros de *treinamento*"
      ]
    },
    {
      "cell_type": "code",
      "metadata": {
        "id": "FHC4-MnNHfuB"
      },
      "source": [
        "batch_size = 128\n",
        "num_classes = 10\n",
        "epochs = 5"
      ],
      "execution_count": null,
      "outputs": []
    },
    {
      "cell_type": "markdown",
      "metadata": {
        "id": "6oe4KL2iHk9i"
      },
      "source": [
        "Lendo e normalizando os dados de treinamento e de teste"
      ]
    },
    {
      "cell_type": "code",
      "metadata": {
        "id": "YRh4EKUgHpDa",
        "colab": {
          "base_uri": "https://localhost:8080/",
          "height": 1000
        },
        "outputId": "3dc955a5-0ea5-40b2-ba52-6416129a8ecd"
      },
      "source": [
        "# dimensões da imagem de entrada\n",
        "img_rows, img_cols = 28, 28\n",
        "\n",
        "# carregamento dos dados de treinamento e de teste\n",
        "(x_train, y_train), (x_test, y_test) = mnist.load_data()\n",
        "\n",
        "# use apenas uma fração dos dados de treinamento/teste\n",
        "x_train=x_train[1:7501]\n",
        "y_train=y_train[1:7501]\n",
        "x_test=x_test[1:1251]\n",
        "y_test=y_test[1:1251]\n",
        "\n",
        "x_train = x_train.reshape(x_train.shape[0], img_rows, img_cols, 1)\n",
        "x_test = x_test.reshape(x_test.shape[0], img_rows, img_cols, 1)\n",
        "input_shape = (img_rows, img_cols, 1)\n",
        "\n",
        "x_train = x_train.astype('float32')\n",
        "x_test = x_test.astype('float32')\n",
        "x_train /= 255\n",
        "x_test /= 255\n",
        "print('x_train shape:', x_train.shape)\n",
        "print('x_test shape:', x_train.shape)\n",
        "print(x_train.shape[0], 'exemplos de treino')\n",
        "print(x_test.shape[0], 'exemplos de teste')\n",
        "\n",
        "# converte as saídas para matrizes binárias (one hot encoding)\n",
        "y_train = keras.utils.to_categorical(y_train, num_classes)\n",
        "y_test = keras.utils.to_categorical(y_test, num_classes)\n",
        "\n",
        "print(y_train[0])\n",
        "print(y_train[1])"
      ],
      "execution_count": null,
      "outputs": [
        {
          "output_type": "stream",
          "text": [
            "((array([[[0, 0, 0, ..., 0, 0, 0],\n",
            "        [0, 0, 0, ..., 0, 0, 0],\n",
            "        [0, 0, 0, ..., 0, 0, 0],\n",
            "        ...,\n",
            "        [0, 0, 0, ..., 0, 0, 0],\n",
            "        [0, 0, 0, ..., 0, 0, 0],\n",
            "        [0, 0, 0, ..., 0, 0, 0]],\n",
            "\n",
            "       [[0, 0, 0, ..., 0, 0, 0],\n",
            "        [0, 0, 0, ..., 0, 0, 0],\n",
            "        [0, 0, 0, ..., 0, 0, 0],\n",
            "        ...,\n",
            "        [0, 0, 0, ..., 0, 0, 0],\n",
            "        [0, 0, 0, ..., 0, 0, 0],\n",
            "        [0, 0, 0, ..., 0, 0, 0]],\n",
            "\n",
            "       [[0, 0, 0, ..., 0, 0, 0],\n",
            "        [0, 0, 0, ..., 0, 0, 0],\n",
            "        [0, 0, 0, ..., 0, 0, 0],\n",
            "        ...,\n",
            "        [0, 0, 0, ..., 0, 0, 0],\n",
            "        [0, 0, 0, ..., 0, 0, 0],\n",
            "        [0, 0, 0, ..., 0, 0, 0]],\n",
            "\n",
            "       ...,\n",
            "\n",
            "       [[0, 0, 0, ..., 0, 0, 0],\n",
            "        [0, 0, 0, ..., 0, 0, 0],\n",
            "        [0, 0, 0, ..., 0, 0, 0],\n",
            "        ...,\n",
            "        [0, 0, 0, ..., 0, 0, 0],\n",
            "        [0, 0, 0, ..., 0, 0, 0],\n",
            "        [0, 0, 0, ..., 0, 0, 0]],\n",
            "\n",
            "       [[0, 0, 0, ..., 0, 0, 0],\n",
            "        [0, 0, 0, ..., 0, 0, 0],\n",
            "        [0, 0, 0, ..., 0, 0, 0],\n",
            "        ...,\n",
            "        [0, 0, 0, ..., 0, 0, 0],\n",
            "        [0, 0, 0, ..., 0, 0, 0],\n",
            "        [0, 0, 0, ..., 0, 0, 0]],\n",
            "\n",
            "       [[0, 0, 0, ..., 0, 0, 0],\n",
            "        [0, 0, 0, ..., 0, 0, 0],\n",
            "        [0, 0, 0, ..., 0, 0, 0],\n",
            "        ...,\n",
            "        [0, 0, 0, ..., 0, 0, 0],\n",
            "        [0, 0, 0, ..., 0, 0, 0],\n",
            "        [0, 0, 0, ..., 0, 0, 0]]], dtype=uint8), array([5, 0, 4, ..., 5, 6, 8], dtype=uint8)), (array([[[0, 0, 0, ..., 0, 0, 0],\n",
            "        [0, 0, 0, ..., 0, 0, 0],\n",
            "        [0, 0, 0, ..., 0, 0, 0],\n",
            "        ...,\n",
            "        [0, 0, 0, ..., 0, 0, 0],\n",
            "        [0, 0, 0, ..., 0, 0, 0],\n",
            "        [0, 0, 0, ..., 0, 0, 0]],\n",
            "\n",
            "       [[0, 0, 0, ..., 0, 0, 0],\n",
            "        [0, 0, 0, ..., 0, 0, 0],\n",
            "        [0, 0, 0, ..., 0, 0, 0],\n",
            "        ...,\n",
            "        [0, 0, 0, ..., 0, 0, 0],\n",
            "        [0, 0, 0, ..., 0, 0, 0],\n",
            "        [0, 0, 0, ..., 0, 0, 0]],\n",
            "\n",
            "       [[0, 0, 0, ..., 0, 0, 0],\n",
            "        [0, 0, 0, ..., 0, 0, 0],\n",
            "        [0, 0, 0, ..., 0, 0, 0],\n",
            "        ...,\n",
            "        [0, 0, 0, ..., 0, 0, 0],\n",
            "        [0, 0, 0, ..., 0, 0, 0],\n",
            "        [0, 0, 0, ..., 0, 0, 0]],\n",
            "\n",
            "       ...,\n",
            "\n",
            "       [[0, 0, 0, ..., 0, 0, 0],\n",
            "        [0, 0, 0, ..., 0, 0, 0],\n",
            "        [0, 0, 0, ..., 0, 0, 0],\n",
            "        ...,\n",
            "        [0, 0, 0, ..., 0, 0, 0],\n",
            "        [0, 0, 0, ..., 0, 0, 0],\n",
            "        [0, 0, 0, ..., 0, 0, 0]],\n",
            "\n",
            "       [[0, 0, 0, ..., 0, 0, 0],\n",
            "        [0, 0, 0, ..., 0, 0, 0],\n",
            "        [0, 0, 0, ..., 0, 0, 0],\n",
            "        ...,\n",
            "        [0, 0, 0, ..., 0, 0, 0],\n",
            "        [0, 0, 0, ..., 0, 0, 0],\n",
            "        [0, 0, 0, ..., 0, 0, 0]],\n",
            "\n",
            "       [[0, 0, 0, ..., 0, 0, 0],\n",
            "        [0, 0, 0, ..., 0, 0, 0],\n",
            "        [0, 0, 0, ..., 0, 0, 0],\n",
            "        ...,\n",
            "        [0, 0, 0, ..., 0, 0, 0],\n",
            "        [0, 0, 0, ..., 0, 0, 0],\n",
            "        [0, 0, 0, ..., 0, 0, 0]]], dtype=uint8), array([7, 2, 1, ..., 4, 5, 6], dtype=uint8)))\n",
            "x_train shape: (7500, 28, 28, 1)\n",
            "x_test shape: (7500, 28, 28, 1)\n",
            "7500 exemplos de treino\n",
            "1250 exemplos de teste\n",
            "[1. 0. 0. 0. 0. 0. 0. 0. 0. 0.]\n",
            "[0. 0. 0. 0. 1. 0. 0. 0. 0. 0.]\n"
          ],
          "name": "stdout"
        }
      ]
    },
    {
      "cell_type": "markdown",
      "metadata": {
        "id": "uq2vyh3qH4Jh"
      },
      "source": [
        "Definindo e compilando a rede neural convolucional"
      ]
    },
    {
      "cell_type": "code",
      "metadata": {
        "id": "voS35i-SH7Q4"
      },
      "source": [
        "model = Sequential()\n",
        "model.add(Conv2D(16, kernel_size=(5, 5),\n",
        "                 activation='relu',\n",
        "                 input_shape=input_shape))\n",
        "model.add(Conv2D(32,kernel_size=(5, 5), activation='relu'))\n",
        "model.add(MaxPooling2D(pool_size=(2, 2)))\n",
        "model.add(Flatten())\n",
        "model.add(Dense(64, activation='relu'))\n",
        "model.add(Dense(num_classes, activation='softmax'))\n",
        "\n",
        "model.compile(loss=keras.losses.categorical_crossentropy,\n",
        "              optimizer=keras.optimizers.Adadelta(),\n",
        "              metrics=['accuracy'])"
      ],
      "execution_count": null,
      "outputs": []
    },
    {
      "cell_type": "markdown",
      "metadata": {
        "id": "3moBRy6rH_Us"
      },
      "source": [
        "Treinamento da rede convolucional"
      ]
    },
    {
      "cell_type": "code",
      "metadata": {
        "id": "CHAQEo4Mrmoe",
        "colab": {
          "base_uri": "https://localhost:8080/",
          "height": 253
        },
        "outputId": "36f020cb-5f76-4d53-c61e-55a234808aac"
      },
      "source": [
        "model.fit(x_train, y_train,\n",
        "          batch_size=batch_size,\n",
        "          epochs=epochs,\n",
        "          verbose=1,\n",
        "          validation_data=(x_test, y_test))\n",
        "score = model.evaluate(x_test, y_test, verbose=0)\n",
        "print('Perda do teste:', score[0])\n",
        "print('Acurácia do teste:', score[1])"
      ],
      "execution_count": null,
      "outputs": [
        {
          "output_type": "stream",
          "text": [
            "Train on 7500 samples, validate on 1250 samples\n",
            "Epoch 1/5\n",
            "7500/7500 [==============================] - 12s 2ms/step - loss: 0.7884 - accuracy: 0.7484 - val_loss: 0.2794 - val_accuracy: 0.9248\n",
            "Epoch 2/5\n",
            "7500/7500 [==============================] - 12s 2ms/step - loss: 0.1827 - accuracy: 0.9468 - val_loss: 0.1938 - val_accuracy: 0.9312\n",
            "Epoch 3/5\n",
            "7500/7500 [==============================] - 12s 2ms/step - loss: 0.1214 - accuracy: 0.9676 - val_loss: 0.1351 - val_accuracy: 0.9552\n",
            "Epoch 4/5\n",
            "7500/7500 [==============================] - 12s 2ms/step - loss: 0.0791 - accuracy: 0.9773 - val_loss: 0.1413 - val_accuracy: 0.9512\n",
            "Epoch 5/5\n",
            "7500/7500 [==============================] - 12s 2ms/step - loss: 0.0623 - accuracy: 0.9839 - val_loss: 0.0950 - val_accuracy: 0.9664\n",
            "Perda do teste: 0.09504395071044565\n",
            "Acurácia do teste: 0.9664000272750854\n"
          ],
          "name": "stdout"
        }
      ]
    },
    {
      "cell_type": "markdown",
      "metadata": {
        "id": "u3xOtMgaIEQc"
      },
      "source": [
        "Avaliação de performance utilizando matriz de confusão e outras estatísticas de acerto (precisão, revocação, f1 etc)"
      ]
    },
    {
      "cell_type": "code",
      "metadata": {
        "id": "n8TYyp-L1SW0",
        "colab": {
          "base_uri": "https://localhost:8080/",
          "height": 562
        },
        "outputId": "cd7d5579-62b8-4cbf-b856-00469d242dfc"
      },
      "source": [
        "#obtem as saídas reais do modelo treinado, recebendo o cj. de teste como entrada\n",
        "y_pred = model.predict(x_test)\n",
        "\n",
        "#converte para números inteiros as saídas desejadas e saídas da predição\n",
        "y_pred_int = y_pred.argmax(axis=1)\n",
        "y_test_int = y_test.argmax(axis=1)\n",
        "print(y_pred_int[0])\n",
        "print(y_test_int[0])\n",
        "\n",
        "#apresenta a matriz de confusão\n",
        "print(confusion_matrix(y_test_int, y_pred_int))\n",
        "print()\n",
        "\n",
        "#apresenta o relatório de classificação\n",
        "print(classification_report(y_test_int, y_pred_int))"
      ],
      "execution_count": null,
      "outputs": [
        {
          "output_type": "stream",
          "text": [
            "2\n",
            "2\n",
            "[[106   0   0   0   0   0   0   0   0   0]\n",
            " [  0 153   1   0   0   0   0   0   1   0]\n",
            " [  0   1 133   0   2   0   0   1   3   0]\n",
            " [  1   0   0 124   0   2   0   2   2   0]\n",
            " [  0   0   0   0 135   0   0   0   0   4]\n",
            " [  0   0   0   0   0 109   0   0   2   0]\n",
            " [  3   1   0   0   1   1 100   0   2   0]\n",
            " [  0   0   2   0   0   0   0 123   0   3]\n",
            " [  0   0   0   1   1   0   0   1 111   1]\n",
            " [  1   0   0   0   1   0   0   1   0 114]]\n",
            "\n",
            "              precision    recall  f1-score   support\n",
            "\n",
            "           0       0.95      1.00      0.98       106\n",
            "           1       0.99      0.99      0.99       155\n",
            "           2       0.98      0.95      0.96       140\n",
            "           3       0.99      0.95      0.97       131\n",
            "           4       0.96      0.97      0.97       139\n",
            "           5       0.97      0.98      0.98       111\n",
            "           6       1.00      0.93      0.96       108\n",
            "           7       0.96      0.96      0.96       128\n",
            "           8       0.92      0.97      0.94       115\n",
            "           9       0.93      0.97      0.95       117\n",
            "\n",
            "    accuracy                           0.97      1250\n",
            "   macro avg       0.97      0.97      0.97      1250\n",
            "weighted avg       0.97      0.97      0.97      1250\n",
            "\n"
          ],
          "name": "stdout"
        }
      ]
    },
    {
      "cell_type": "markdown",
      "metadata": {
        "id": "1gyZ7CbQt0wa"
      },
      "source": [
        "##Agora é a sua vez\n",
        "Aproveitando o código anterior, escreva um programa que imprima as matrizes de confusão de 3 versões modificadas (gradualmente mais simples) da rede neural original. Cada versão deverá ter 1/2, 1/4 e 1/8 de filtros convolucionais e de neurônios na camada densa. Como ficaram os resultados? Melhoraram? Pioraram? Procure fornecer uma explicação.\n",
        "\n",
        "##Bonus\n",
        "Reduza as dimensões da imagem de entrada para 14x14 e repita o teste anterior. As conclusões serão as mesmas? Comente."
      ]
    },
    {
      "cell_type": "code",
      "metadata": {
        "id": "LbhdhQkxTp6a",
        "colab": {
          "base_uri": "https://localhost:8080/",
          "height": 798
        },
        "outputId": "af803bc4-b29f-4d46-a43f-fda9f1515dac"
      },
      "source": [
        "model = Sequential()\n",
        "model.add(Conv2D(8, kernel_size=(5, 5),\n",
        "                 activation='relu',\n",
        "                 input_shape=input_shape))\n",
        "model.add(Conv2D(16,kernel_size=(5, 5), activation='relu'))\n",
        "model.add(MaxPooling2D(pool_size=(2, 2)))\n",
        "model.add(Flatten())\n",
        "model.add(Dense(32, activation='relu'))\n",
        "model.add(Dense(num_classes, activation='softmax'))\n",
        "\n",
        "model.compile(loss=keras.losses.categorical_crossentropy,\n",
        "              optimizer=keras.optimizers.Adadelta(),\n",
        "              metrics=['accuracy'])\n",
        "\n",
        "\n",
        "model.fit(x_train, y_train,\n",
        "          batch_size=batch_size,\n",
        "          epochs=epochs,\n",
        "          verbose=1,\n",
        "          validation_data=(x_test, y_test))\n",
        "score = model.evaluate(x_test, y_test, verbose=0)\n",
        "print('Perda do teste:', score[0])\n",
        "print('Acurácia do teste:', score[1])\n",
        "\n",
        "#obtem as saídas reais do modelo treinado, recebendo o cj. de teste como entrada\n",
        "y_pred = model.predict(x_test)\n",
        "\n",
        "#converte para números inteiros as saídas desejadas e saídas da predição\n",
        "y_pred_int = y_pred.argmax(axis=1)\n",
        "y_test_int = y_test.argmax(axis=1)\n",
        "print(y_pred_int[0])\n",
        "print(y_test_int[0])\n",
        "\n",
        "#apresenta a matriz de confusão\n",
        "print(confusion_matrix(y_test_int, y_pred_int))\n",
        "print()\n",
        "\n",
        "#apresenta o relatório de classificação\n",
        "print(classification_report(y_test_int, y_pred_int))"
      ],
      "execution_count": null,
      "outputs": [
        {
          "output_type": "stream",
          "text": [
            "Train on 7500 samples, validate on 1250 samples\n",
            "Epoch 1/5\n",
            "7500/7500 [==============================] - 6s 790us/step - loss: 0.9398 - accuracy: 0.7156 - val_loss: 0.4950 - val_accuracy: 0.8416\n",
            "Epoch 2/5\n",
            "7500/7500 [==============================] - 6s 771us/step - loss: 0.2270 - accuracy: 0.9375 - val_loss: 0.2469 - val_accuracy: 0.9296\n",
            "Epoch 3/5\n",
            "7500/7500 [==============================] - 6s 764us/step - loss: 0.1458 - accuracy: 0.9588 - val_loss: 0.2068 - val_accuracy: 0.9360\n",
            "Epoch 4/5\n",
            "7500/7500 [==============================] - 6s 770us/step - loss: 0.1046 - accuracy: 0.9688 - val_loss: 0.1312 - val_accuracy: 0.9576\n",
            "Epoch 5/5\n",
            "7500/7500 [==============================] - 6s 770us/step - loss: 0.0816 - accuracy: 0.9768 - val_loss: 0.1171 - val_accuracy: 0.9664\n",
            "Perda do teste: 0.11714478229880333\n",
            "Acurácia do teste: 0.9664000272750854\n",
            "2\n",
            "2\n",
            "[[105   0   0   0   0   0   1   0   0   0]\n",
            " [  0 155   0   0   0   0   0   0   0   0]\n",
            " [  0   1 136   1   0   0   0   2   0   0]\n",
            " [  0   0   0 126   0   2   0   2   1   0]\n",
            " [  0   1   1   0 133   0   1   0   0   3]\n",
            " [  0   0   0   1   1 109   0   0   0   0]\n",
            " [  3   1   0   0   0   2 101   0   1   0]\n",
            " [  0   0   7   1   0   0   0 120   0   0]\n",
            " [  0   1   2   2   0   0   0   1 108   1]\n",
            " [  1   1   0   0   0   0   0   0   0 115]]\n",
            "\n",
            "              precision    recall  f1-score   support\n",
            "\n",
            "           0       0.96      0.99      0.98       106\n",
            "           1       0.97      1.00      0.98       155\n",
            "           2       0.93      0.97      0.95       140\n",
            "           3       0.96      0.96      0.96       131\n",
            "           4       0.99      0.96      0.97       139\n",
            "           5       0.96      0.98      0.97       111\n",
            "           6       0.98      0.94      0.96       108\n",
            "           7       0.96      0.94      0.95       128\n",
            "           8       0.98      0.94      0.96       115\n",
            "           9       0.97      0.98      0.97       117\n",
            "\n",
            "    accuracy                           0.97      1250\n",
            "   macro avg       0.97      0.97      0.97      1250\n",
            "weighted avg       0.97      0.97      0.97      1250\n",
            "\n"
          ],
          "name": "stdout"
        }
      ]
    },
    {
      "cell_type": "code",
      "metadata": {
        "id": "cQ96dARmT3ST",
        "colab": {
          "base_uri": "https://localhost:8080/",
          "height": 798
        },
        "outputId": "b29c4681-0817-4a4e-d3c6-a128266c44ff"
      },
      "source": [
        "model = Sequential()\n",
        "model.add(Conv2D(4, kernel_size=(5, 5),\n",
        "                 activation='relu',\n",
        "                 input_shape=input_shape))\n",
        "model.add(Conv2D(8,kernel_size=(5, 5), activation='relu'))\n",
        "model.add(MaxPooling2D(pool_size=(2, 2)))\n",
        "model.add(Flatten())\n",
        "model.add(Dense(16, activation='relu'))\n",
        "model.add(Dense(num_classes, activation='softmax'))\n",
        "\n",
        "model.compile(loss=keras.losses.categorical_crossentropy,\n",
        "              optimizer=keras.optimizers.Adadelta(),\n",
        "              metrics=['accuracy'])\n",
        "\n",
        "\n",
        "model.fit(x_train, y_train,\n",
        "          batch_size=batch_size,\n",
        "          epochs=epochs,\n",
        "          verbose=1,\n",
        "          validation_data=(x_test, y_test))\n",
        "score = model.evaluate(x_test, y_test, verbose=0)\n",
        "print('Perda do teste:', score[0])\n",
        "print('Acurácia do teste:', score[1])\n",
        "\n",
        "#obtem as saídas reais do modelo treinado, recebendo o cj. de teste como entrada\n",
        "y_pred = model.predict(x_test)\n",
        "\n",
        "#converte para números inteiros as saídas desejadas e saídas da predição\n",
        "y_pred_int = y_pred.argmax(axis=1)\n",
        "y_test_int = y_test.argmax(axis=1)\n",
        "print(y_pred_int[0])\n",
        "print(y_test_int[0])\n",
        "\n",
        "#apresenta a matriz de confusão\n",
        "print(confusion_matrix(y_test_int, y_pred_int))\n",
        "print()\n",
        "\n",
        "#apresenta o relatório de classificação\n",
        "print(classification_report(y_test_int, y_pred_int))"
      ],
      "execution_count": null,
      "outputs": [
        {
          "output_type": "stream",
          "text": [
            "Train on 7500 samples, validate on 1250 samples\n",
            "Epoch 1/5\n",
            "7500/7500 [==============================] - 5s 600us/step - loss: 1.1772 - accuracy: 0.6291 - val_loss: 0.8333 - val_accuracy: 0.7432\n",
            "Epoch 2/5\n",
            "7500/7500 [==============================] - 4s 585us/step - loss: 0.3193 - accuracy: 0.9100 - val_loss: 0.2908 - val_accuracy: 0.9160\n",
            "Epoch 3/5\n",
            "7500/7500 [==============================] - 4s 582us/step - loss: 0.2027 - accuracy: 0.9435 - val_loss: 0.2072 - val_accuracy: 0.9360\n",
            "Epoch 4/5\n",
            "7500/7500 [==============================] - 4s 583us/step - loss: 0.1542 - accuracy: 0.9556 - val_loss: 0.1722 - val_accuracy: 0.9520\n",
            "Epoch 5/5\n",
            "7500/7500 [==============================] - 4s 578us/step - loss: 0.1266 - accuracy: 0.9637 - val_loss: 0.1526 - val_accuracy: 0.9504\n",
            "Perda do teste: 0.15264023343250155\n",
            "Acurácia do teste: 0.9503999948501587\n",
            "2\n",
            "2\n",
            "[[104   0   0   0   0   2   0   0   0   0]\n",
            " [  0 155   0   0   0   0   0   0   0   0]\n",
            " [  0   1 131   1   0   0   0   4   3   0]\n",
            " [  0   0   0 126   0   3   0   0   2   0]\n",
            " [  0   0   0   0 128   0   3   0   1   7]\n",
            " [  0   0   0   2   0 107   0   0   2   0]\n",
            " [  3   1   0   0   0   3 100   0   1   0]\n",
            " [  0   1   3   2   0   0   0 120   0   2]\n",
            " [  0   0   2   1   2   1   0   3 105   1]\n",
            " [  1   1   0   1   0   0   1   1   0 112]]\n",
            "\n",
            "              precision    recall  f1-score   support\n",
            "\n",
            "           0       0.96      0.98      0.97       106\n",
            "           1       0.97      1.00      0.99       155\n",
            "           2       0.96      0.94      0.95       140\n",
            "           3       0.95      0.96      0.95       131\n",
            "           4       0.98      0.92      0.95       139\n",
            "           5       0.92      0.96      0.94       111\n",
            "           6       0.96      0.93      0.94       108\n",
            "           7       0.94      0.94      0.94       128\n",
            "           8       0.92      0.91      0.92       115\n",
            "           9       0.92      0.96      0.94       117\n",
            "\n",
            "    accuracy                           0.95      1250\n",
            "   macro avg       0.95      0.95      0.95      1250\n",
            "weighted avg       0.95      0.95      0.95      1250\n",
            "\n"
          ],
          "name": "stdout"
        }
      ]
    },
    {
      "cell_type": "code",
      "metadata": {
        "id": "lUqrKkjzT99x",
        "colab": {
          "base_uri": "https://localhost:8080/",
          "height": 798
        },
        "outputId": "f934a717-b428-485f-f9f8-b47ef871cfb7"
      },
      "source": [
        "model = Sequential()\n",
        "model.add(Conv2D(2, kernel_size=(5, 5),\n",
        "                 activation='relu',\n",
        "                 input_shape=input_shape))\n",
        "model.add(Conv2D(4,kernel_size=(5, 5), activation='relu'))\n",
        "model.add(MaxPooling2D(pool_size=(2, 2)))\n",
        "model.add(Flatten())\n",
        "model.add(Dense(8, activation='relu'))\n",
        "model.add(Dense(num_classes, activation='softmax'))\n",
        "\n",
        "model.compile(loss=keras.losses.categorical_crossentropy,\n",
        "              optimizer=keras.optimizers.Adadelta(),\n",
        "              metrics=['accuracy'])\n",
        "\n",
        "\n",
        "model.fit(x_train, y_train,\n",
        "          batch_size=batch_size,\n",
        "          epochs=epochs,\n",
        "          verbose=1,\n",
        "          validation_data=(x_test, y_test))\n",
        "score = model.evaluate(x_test, y_test, verbose=0)\n",
        "print('Perda do teste:', score[0])\n",
        "print('Acurácia do teste:', score[1])\n",
        "\n",
        "#obtem as saídas reais do modelo treinado, recebendo o cj. de teste como entrada\n",
        "y_pred = model.predict(x_test)\n",
        "\n",
        "#converte para números inteiros as saídas desejadas e saídas da predição\n",
        "y_pred_int = y_pred.argmax(axis=1)\n",
        "y_test_int = y_test.argmax(axis=1)\n",
        "print(y_pred_int[0])\n",
        "print(y_test_int[0])\n",
        "\n",
        "#apresenta a matriz de confusão\n",
        "print(confusion_matrix(y_test_int, y_pred_int))\n",
        "print()\n",
        "\n",
        "#apresenta o relatório de classificação\n",
        "print(classification_report(y_test_int, y_pred_int))"
      ],
      "execution_count": null,
      "outputs": [
        {
          "output_type": "stream",
          "text": [
            "Train on 7500 samples, validate on 1250 samples\n",
            "Epoch 1/5\n",
            "7500/7500 [==============================] - 4s 507us/step - loss: 1.6360 - accuracy: 0.4728 - val_loss: 1.1040 - val_accuracy: 0.6720\n",
            "Epoch 2/5\n",
            "7500/7500 [==============================] - 4s 496us/step - loss: 0.5496 - accuracy: 0.8373 - val_loss: 0.5814 - val_accuracy: 0.8200\n",
            "Epoch 3/5\n",
            "7500/7500 [==============================] - 4s 479us/step - loss: 0.3368 - accuracy: 0.8993 - val_loss: 0.4325 - val_accuracy: 0.8688\n",
            "Epoch 4/5\n",
            "7500/7500 [==============================] - 4s 486us/step - loss: 0.2614 - accuracy: 0.9275 - val_loss: 0.2897 - val_accuracy: 0.9200\n",
            "Epoch 5/5\n",
            "7500/7500 [==============================] - 4s 483us/step - loss: 0.2168 - accuracy: 0.9400 - val_loss: 0.2682 - val_accuracy: 0.9240\n",
            "Perda do teste: 0.2682466314911842\n",
            "Acurácia do teste: 0.9240000247955322\n",
            "2\n",
            "2\n",
            "[[104   0   0   0   1   0   1   0   0   0]\n",
            " [  0 155   0   0   0   0   0   0   0   0]\n",
            " [  0   0 122   2   0   0   2   5   6   3]\n",
            " [  0   0   0 120   0   4   1   4   2   0]\n",
            " [  0   0   0   0 131   0   3   1   3   1]\n",
            " [  0   0   0   1   0 107   0   0   3   0]\n",
            " [  3   1   0   0   3   2  98   0   1   0]\n",
            " [  0   0   2   3   1   0   0 117   1   4]\n",
            " [  1   2   1   1   2   5   1   2  97   3]\n",
            " [  0   1   0   0   3   4   0   4   1 104]]\n",
            "\n",
            "              precision    recall  f1-score   support\n",
            "\n",
            "           0       0.96      0.98      0.97       106\n",
            "           1       0.97      1.00      0.99       155\n",
            "           2       0.98      0.87      0.92       140\n",
            "           3       0.94      0.92      0.93       131\n",
            "           4       0.93      0.94      0.94       139\n",
            "           5       0.88      0.96      0.92       111\n",
            "           6       0.92      0.91      0.92       108\n",
            "           7       0.88      0.91      0.90       128\n",
            "           8       0.85      0.84      0.85       115\n",
            "           9       0.90      0.89      0.90       117\n",
            "\n",
            "    accuracy                           0.92      1250\n",
            "   macro avg       0.92      0.92      0.92      1250\n",
            "weighted avg       0.92      0.92      0.92      1250\n",
            "\n"
          ],
          "name": "stdout"
        }
      ]
    },
    {
      "cell_type": "markdown",
      "metadata": {
        "id": "1DCNOGgpYsMO"
      },
      "source": [
        "Resposta: Houve uma 'perda de teste' maior a cada diminuição do número de filtros convolucionais e de neurônios na camada densa. Como também a perda da acurácia gradualmente. Ou seja o classificador confudiu cada vez mais, como é possível notar com as matrizes de confusão. O que pode explicar isso é que com a diminução da quantidade de filtros, é possível que algumas características podem não ter sido detectadas, ou o número de neurônios baixo pode gerar uma representação não muito boa."
      ]
    }
  ]
}